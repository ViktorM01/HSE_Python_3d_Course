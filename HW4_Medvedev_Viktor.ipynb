{
 "cells": [
  {
   "cell_type": "markdown",
   "metadata": {},
   "source": [
    "## Домашнее задание №4\n",
    "\n",
    "За разные задачи можно получить разное число баллов. Если не указано обратное, задача весит 1 балл. Максимум за ДЗ можно набрать 7 баллов. Вы можете решить больше задач, чем требуется, чтобы потренироваться.\n",
    "\n",
    "Для предварительной проверки задания нужно сделать следующее:\n",
    "\n",
    "1. Скачать данный `ipynb`-файл на свой компьютер, открыть его в IPython Notebook/Jupyter.\n",
    "2. Активировать тесты (см. ниже).\n",
    "3. Вставить решение каждой задачи в ячейку для кода, следующую за его условием, там, где написан комментарий `# YOUR CODE HERE`. Отступ вашего кода должен составлять 4 пробела. Ничего не менять вокруг!\n",
    "4. Запустить ячейку, в которую вы вставили код с решением. Ввести какие-то входные данные, проверить визуально правильность вывода.\n",
    "5. Запустить следующую ячейку (в ней содержится тест). Если запуск ячейки с тестом не приводит к появлению ошибки (assertion), значит, всё в порядке, задача решена. Если приводит к появлению ошибки, значит, тест не пройден и нужно искать ошибку.\n",
    "\n",
    "**Внимание!** Если в какой-то момент забыть ввести входные данные и перейти на следующую ячейку, есть риск, что Notebook перестанет откликаться. В этом случае надо перезапустить ядро: *Kernel → Restart*. При этом потеряются все значения переменных, но сам код останется.\n",
    "\n",
    "Чтобы сдать ДЗ, его надо загрузить в [nbgr-x](http://python.math-hse.info) в виде `ipynb`-файла. Получить `ipynb`-файл можно, выбрав в Jupyter пункт меню *File → Download as... → IPython Notebook (.ipynb)*."
   ]
  },
  {
   "cell_type": "markdown",
   "metadata": {},
   "source": [
    "### Активировать тесты\n",
    "Запустите следующие ячейку, чтобы иметь возможность запускать тесты. Эту операцию нужно проделывать каждый раз, когда вы перезапускаете ядро. Если какой-то из тестов говорит `NameError: name 'Tester' is not defined`, нужно запустить эту ячейку ещё раз."
   ]
  },
  {
   "cell_type": "code",
   "execution_count": 254,
   "metadata": {},
   "outputs": [],
   "source": [
    "# Фабрика тестов для проверки программ, принимающих данные через input()\n",
    "\n",
    "from collections import deque\n",
    "\n",
    "class Tester(object):\n",
    "    def __init__(self, inp):\n",
    "        self.outputs = []\n",
    "        self.inputs = deque(inp)\n",
    "    def print(self, *args, sep = \" \", end = \"\\n\"):\n",
    "        text = sep.join(map(str, args)) + end\n",
    "        newlines = text.splitlines(keepends=True)\n",
    "        if self.outputs and self.outputs[-1] and self.outputs[-1][-1] != \"\\n\" and newlines:\n",
    "            self.outputs[-1] += newlines[0]\n",
    "            self.outputs.extend(newlines[1:])\n",
    "        else:\n",
    "            self.outputs.extend(newlines)\n",
    "            \n",
    "    def input(self, *args):\n",
    "        assert self.inputs, \"Вы пытаетесь считать больше элементов, чем предусмотрено условием\"\n",
    "        return self.inputs.popleft()\n",
    "    def __enter__(self):\n",
    "        global print\n",
    "        global input\n",
    "        print = self.print\n",
    "        input = self.input\n",
    "        return self.outputs\n",
    "    def __exit__(self, *args):\n",
    "        global print\n",
    "        global input\n",
    "        del print\n",
    "        del input"
   ]
  },
  {
   "cell_type": "markdown",
   "metadata": {},
   "source": [
    "### Задача 1\n",
    "\n",
    "Создайте пустой словарь `lens` и добавьте в него две записи: одну с ключом \"Liasis papuana\" и значением 4, вторую ‒ с ключом \"Python reticulatus\" и значением 6. Итоговый словарь должен выглядеть так:\n",
    "\n",
    "    {'Liasis papuana': 4, 'Python reticulatus' : 6}"
   ]
  },
  {
   "cell_type": "code",
   "execution_count": 255,
   "metadata": {
    "deletable": false,
    "nbgrader": {
     "checksum": "da3167fed97c6b6de45e41eb68c3cdc7",
     "grade": false,
     "grade_id": "p1",
     "locked": false,
     "schema_version": 1,
     "solution": true
    }
   },
   "outputs": [
    {
     "data": {
      "text/plain": [
       "{'Liasis papuana': 4, 'Python reticulatus': 6}"
      ]
     },
     "execution_count": 255,
     "metadata": {},
     "output_type": "execute_result"
    }
   ],
   "source": [
    "def py_dict():\n",
    "    lens = {}\n",
    "    lens.update({'Liasis papuana' : 4, 'Python reticulatus' : 6})\n",
    "    return lens\n",
    "py_dict()        "
   ]
  },
  {
   "cell_type": "code",
   "execution_count": 256,
   "metadata": {
    "deletable": false,
    "nbgrader": {
     "checksum": "5d1d5b0a2ab3d1fd5d4f88038bd72664",
     "grade": true,
     "grade_id": "p1_test",
     "locked": true,
     "points": 1,
     "schema_version": 1,
     "solution": false
    }
   },
   "outputs": [],
   "source": [
    "assert py_dict() == {'Liasis papuana': 4, 'Python reticulatus': 6}, \"Неверный ответ.\""
   ]
  },
  {
   "cell_type": "markdown",
   "metadata": {},
   "source": [
    "### Задача 2\n",
    "\n",
    "У питона Пети в записной книжке хранятся полные имена друзей и знакомых из разных стран. Записная книжка представляет собой словарь:\n",
    "\n",
    "    pythons = {\"королевский питон Рональд\" : \"Уганда\", \n",
    "          \"карликовый питон Антониа\" : \"Ангола\", \n",
    "          \"сетчатый питон Асиф\" : \"Бангладеш\", \n",
    "          \"зеленый питон Оливер\" : \"Австралия\", \n",
    "          \"тиморский питон Николау\" : \"Восточный Тимор\", \n",
    "          \"аметистовый питон Харрисон\" : \"Австралия\", \n",
    "          \"тигровый питон Мэйли\" : \"Китай\",\n",
    "          \"оливковый питон Руби\" : \"Австралия\", \n",
    "          \"белогубый питон Арис\" : \"Индонезия\", \n",
    "          \"эфиопский питон Оника\" : \"Мозамбик\"}\n",
    "\n",
    "Питон Петя хочет съездить в Австралию, и поэтому хочет вывести на экран имена тех друзей и знакомых, которые живут в Австралии (чтобы потом выбрать, у кого остановиться). Напишите программу, которая выводит на экран полные имена питонов из Австралии.\n",
    "\n",
    "**Ожидаемый вывод на экран:**\n",
    "\n",
    "    зеленый питон Оливер\n",
    "    аметистовый питон Харрисон\n",
    "    оливковый питон Руби"
   ]
  },
  {
   "cell_type": "code",
   "execution_count": 257,
   "metadata": {
    "deletable": false,
    "nbgrader": {
     "checksum": "c8d55b266b7934a589d75db82808c070",
     "grade": false,
     "grade_id": "p2",
     "locked": false,
     "schema_version": 1,
     "solution": true
    }
   },
   "outputs": [
    {
     "name": "stdout",
     "output_type": "stream",
     "text": [
      "зеленый питон Оливер\n",
      "аметистовый питон Харрисон\n",
      "оливковый питон Руби\n"
     ]
    }
   ],
   "source": [
    "def get_names():\n",
    "    \n",
    "    pythons = {\"королевский питон Рональд\" : \"Уганда\", \n",
    "          \"карликовый питон Антониа\" : \"Ангола\", \n",
    "          \"сетчатый питон Асиф\" : \"Бангладеш\", \n",
    "          \"зеленый питон Оливер\" : \"Австралия\", \n",
    "          \"тиморский питон Николау\" : \"Восточный Тимор\", \n",
    "          \"аметистовый питон Харрисон\" : \"Австралия\", \n",
    "          \"тигровый питон Мэйли\" : \"Китай\",\n",
    "          \"оливковый питон Руби\" : \"Австралия\", \n",
    "          \"белогубый питон Арис\" : \"Индонезия\", \n",
    "          \"эфиопский питон Оника\" : \"Мозамбик\"}\n",
    "    \n",
    "    australian_pythons = [p for p, c in pythons.items() if c == 'Австралия']\n",
    "    return print('\\n'.join(australian_pythons))\n",
    "\n",
    "get_names()"
   ]
  },
  {
   "cell_type": "code",
   "execution_count": 258,
   "metadata": {
    "deletable": false,
    "nbgrader": {
     "checksum": "31ee668f87a476db7f79af4b5dc13ed8",
     "grade": true,
     "grade_id": "p2_test",
     "locked": true,
     "points": 1,
     "schema_version": 1,
     "solution": false
    }
   },
   "outputs": [],
   "source": [
    "test_data = [(\"\", \n",
    "          [\"зеленый питон Оливер\\n\",\"аметистовый питон Харрисон\\n\",\"оливковый питон Руби\\n\"])]\n",
    "\n",
    "for inp, out in test_data:\n",
    "    with Tester([inp]) as t:\n",
    "        get_names()\n",
    "        assert sorted(out) == sorted(t), \"Неверный ответ, проверьте соответствие Вашего вывода и ожидаемого вывода.\""
   ]
  },
  {
   "cell_type": "markdown",
   "metadata": {},
   "source": [
    "### Задача 3\n",
    "\n",
    "Дан словарь с записями, ключами которых являются числовые id, а значениями – города. \n",
    "\n",
    "    cities = {100: 'Москва', 101: 'Санкт-Петербург', 103: 'Екатеринбург', 104: 'Пермь', \n",
    "              107: 'Красноярск', 111 : 'Киров'}\n",
    "\n",
    "Напишите программу, которая просит пользователя ввести с клавиатуры сначала ключ, потом значение, а затем:\n",
    "\n",
    "* если в словаре `cities` есть запись с таким ключом, на экран выводится сообщение \"Запись с таким ключом существует. Введите другой ключ.\"\n",
    "\n",
    "* если в словаре `cities` нет записи с таким ключом, в этот словарь добавляется запись с введенным ключом и значением + обновленный словарь `cities` выводится на экран\n",
    "\n",
    "**Пример:**\n",
    "\n",
    "*Входные данные:*\n",
    "\n",
    "    Введите ключ: 101\n",
    "    Введите значение: Мурманск\n",
    "\n",
    "*Выходные данные:*\n",
    "    \n",
    "    Запись с таким ключом существует. Введите другой ключ.\n",
    "\n",
    "*Входные данные:*\n",
    "\n",
    "    Введите ключ: 117\n",
    "    Введите значение: Омск\n",
    "\n",
    "*Выходные данные (порядок записей может быть другим):*\n",
    "    \n",
    "    {100: 'Москва', 101: 'Санкт-Петербург', 103: 'Екатеринбург', 104: 'Пермь', \n",
    "              107: 'Красноярск', 111 : 'Киров', 117 : 'Омск'}\n",
    "              \n",
    "Обратите внимание, id должны быть целочисленными!\n",
    "\n",
    "**Подсказка:** используйте оператор `in`."
   ]
  },
  {
   "cell_type": "code",
   "execution_count": 259,
   "metadata": {
    "deletable": false,
    "nbgrader": {
     "checksum": "f5754eec9d4032a7de1afe6306d4f423",
     "grade": false,
     "grade_id": "p3",
     "locked": false,
     "schema_version": 1,
     "solution": true
    }
   },
   "outputs": [
    {
     "name": "stdout",
     "output_type": "stream",
     "text": [
      "Введите ключ: 117\n",
      "Введите значение: Омск\n"
     ]
    },
    {
     "data": {
      "text/plain": [
       "{100: 'Москва',\n",
       " 101: 'Санкт-Петербург',\n",
       " 103: 'Екатеринбург',\n",
       " 104: 'Пермь',\n",
       " 107: 'Красноярск',\n",
       " 111: 'Киров',\n",
       " 117: 'Омск'}"
      ]
     },
     "execution_count": 259,
     "metadata": {},
     "output_type": "execute_result"
    }
   ],
   "source": [
    "def add_city():\n",
    "    \n",
    "    cities = {100: 'Москва', 101: 'Санкт-Петербург', 103: 'Екатеринбург', 104: 'Пермь', \n",
    "              107: 'Красноярск', 111 : 'Киров'}\n",
    "\n",
    "    key_id = int(input('Введите ключ: '))\n",
    "    city = input('Введите значение: ')\n",
    "    for k in cities.keys():\n",
    "        if k == key_id:\n",
    "            return print(f'Запись с таким ключом существует. Введите другой ключ.')\n",
    "    cities[key_id] = city\n",
    "    return cities\n",
    "add_city()"
   ]
  },
  {
   "cell_type": "code",
   "execution_count": 260,
   "metadata": {
    "deletable": false,
    "nbgrader": {
     "checksum": "6b34c93110de428f95974fb6acc71eb5",
     "grade": true,
     "grade_id": "p3_test",
     "locked": true,
     "points": 1,
     "schema_version": 1,
     "solution": false
    }
   },
   "outputs": [
    {
     "ename": "IndexError",
     "evalue": "list index out of range",
     "output_type": "error",
     "traceback": [
      "\u001b[1;31m---------------------------------------------------------------------------\u001b[0m",
      "\u001b[1;31mIndexError\u001b[0m                                Traceback (most recent call last)",
      "\u001b[1;32m<ipython-input-260-79665566262c>\u001b[0m in \u001b[0;36m<module>\u001b[1;34m\u001b[0m\n\u001b[0;32m      9\u001b[0m         \u001b[0madd_city\u001b[0m\u001b[1;33m(\u001b[0m\u001b[1;33m)\u001b[0m\u001b[1;33m\u001b[0m\u001b[1;33m\u001b[0m\u001b[0m\n\u001b[0;32m     10\u001b[0m         \u001b[1;32mif\u001b[0m \u001b[0mtype\u001b[0m\u001b[1;33m(\u001b[0m\u001b[0mout\u001b[0m\u001b[1;33m)\u001b[0m \u001b[1;32mis\u001b[0m \u001b[0mdict\u001b[0m\u001b[1;33m:\u001b[0m\u001b[1;33m\u001b[0m\u001b[1;33m\u001b[0m\u001b[0m\n\u001b[1;32m---> 11\u001b[1;33m             \u001b[1;32massert\u001b[0m \u001b[0mliteral_eval\u001b[0m\u001b[1;33m(\u001b[0m\u001b[0mt\u001b[0m\u001b[1;33m[\u001b[0m\u001b[1;36m0\u001b[0m\u001b[1;33m]\u001b[0m\u001b[1;33m)\u001b[0m \u001b[1;33m==\u001b[0m \u001b[0mout\u001b[0m\u001b[1;33m,\u001b[0m \u001b[1;34m\"Неверный ответ, был введен ключ %i, значение %s.\"\u001b[0m \u001b[1;33m%\u001b[0m \u001b[1;33m(\u001b[0m\u001b[0mint\u001b[0m\u001b[1;33m(\u001b[0m\u001b[0minp\u001b[0m\u001b[1;33m.\u001b[0m\u001b[0msplit\u001b[0m\u001b[1;33m(\u001b[0m\u001b[1;33m)\u001b[0m\u001b[1;33m[\u001b[0m\u001b[1;36m0\u001b[0m\u001b[1;33m]\u001b[0m\u001b[1;33m)\u001b[0m\u001b[1;33m,\u001b[0m \u001b[0minp\u001b[0m\u001b[1;33m.\u001b[0m\u001b[0msplit\u001b[0m\u001b[1;33m(\u001b[0m\u001b[1;33m)\u001b[0m\u001b[1;33m[\u001b[0m\u001b[1;36m1\u001b[0m\u001b[1;33m]\u001b[0m\u001b[1;33m)\u001b[0m\u001b[1;33m\u001b[0m\u001b[1;33m\u001b[0m\u001b[0m\n\u001b[0m\u001b[0;32m     12\u001b[0m         \u001b[1;32melse\u001b[0m\u001b[1;33m:\u001b[0m\u001b[1;33m\u001b[0m\u001b[1;33m\u001b[0m\u001b[0m\n\u001b[0;32m     13\u001b[0m             \u001b[1;32massert\u001b[0m \u001b[0mt\u001b[0m\u001b[1;33m[\u001b[0m\u001b[1;36m0\u001b[0m\u001b[1;33m]\u001b[0m \u001b[1;33m==\u001b[0m \u001b[0mout\u001b[0m\u001b[1;33m+\u001b[0m\u001b[1;34m'\\n'\u001b[0m\u001b[1;33m,\u001b[0m \u001b[1;34m\"Неверный ответ, был введен ключ %i, значение %s.\"\u001b[0m \u001b[1;33m%\u001b[0m \u001b[1;33m(\u001b[0m\u001b[0mint\u001b[0m\u001b[1;33m(\u001b[0m\u001b[0minp\u001b[0m\u001b[1;33m.\u001b[0m\u001b[0msplit\u001b[0m\u001b[1;33m(\u001b[0m\u001b[1;33m)\u001b[0m\u001b[1;33m[\u001b[0m\u001b[1;36m0\u001b[0m\u001b[1;33m]\u001b[0m\u001b[1;33m)\u001b[0m\u001b[1;33m,\u001b[0m \u001b[0minp\u001b[0m\u001b[1;33m.\u001b[0m\u001b[0msplit\u001b[0m\u001b[1;33m(\u001b[0m\u001b[1;33m)\u001b[0m\u001b[1;33m[\u001b[0m\u001b[1;36m1\u001b[0m\u001b[1;33m]\u001b[0m\u001b[1;33m)\u001b[0m\u001b[1;33m\u001b[0m\u001b[1;33m\u001b[0m\u001b[0m\n",
      "\u001b[1;31mIndexError\u001b[0m: list index out of range"
     ]
    }
   ],
   "source": [
    "from ast import literal_eval\n",
    "test_data = [(\"101 Мурманск\", \n",
    "          \"Запись с таким ключом существует. Введите другой ключ.\"),\n",
    "            (\"117 Омск\", {100: 'Москва', 101: 'Санкт-Петербург', 103: 'Екатеринбург', 104: 'Пермь', \n",
    "            107: 'Красноярск', 117: 'Омск', 111 : 'Киров'})]\n",
    "\n",
    "for inp, out in test_data:\n",
    "    with Tester(inp.split()) as t:\n",
    "        add_city()\n",
    "        if type(out) is dict:\n",
    "            assert literal_eval(t[0]) == out, \"Неверный ответ, был введен ключ %i, значение %s.\" % (int(inp.split()[0]), inp.split()[1])\n",
    "        else:\n",
    "            assert t[0] == out+'\\n', \"Неверный ответ, был введен ключ %i, значение %s.\" % (int(inp.split()[0]), inp.split()[1])"
   ]
  },
  {
   "cell_type": "markdown",
   "metadata": {},
   "source": [
    "### Задача 4\n",
    "\n",
    "Напишите программу, которая сначала запрашивает у пользователя имена студентов через проблел, затем их оценки через пробел и создает и выводит на экран словарь, где ключами являются имена, а значениями – оценки.\n",
    "\n",
    "**Пример:**\n",
    "\n",
    "*Входные данные:*\n",
    "\n",
    "    Введите имена студентов: Анна Николай\n",
    "    Введите оценки студентов: 8 7\n",
    "\n",
    "*Выходные данные (порядок записей может отличаться):*\n",
    "\n",
    "    {'Анна' : 8, 'Николай' : 7}"
   ]
  },
  {
   "cell_type": "code",
   "execution_count": 261,
   "metadata": {
    "deletable": false,
    "nbgrader": {
     "checksum": "14b4936970445d00c075c4d8332677f7",
     "grade": false,
     "grade_id": "p4",
     "locked": false,
     "schema_version": 1,
     "solution": true
    }
   },
   "outputs": [
    {
     "name": "stdout",
     "output_type": "stream",
     "text": [
      "Введите имена студентов: Анна Николай Лана Дел Рей\n",
      "Введите оценки студентов: 6 7 8 9 10\n"
     ]
    },
    {
     "data": {
      "text/plain": [
       "{'Анна': 6, 'Николай': 7, 'Лана': 8, 'Дел': 9, 'Рей': 10}"
      ]
     },
     "execution_count": 261,
     "metadata": {},
     "output_type": "execute_result"
    }
   ],
   "source": [
    "def gradebook():\n",
    "    names = input('Введите имена студентов: ')\n",
    "    marks = input('Введите оценки студентов: ')\n",
    "    names_l = names.split()\n",
    "    marks_l = [int(m) for m in marks.split()]\n",
    "    return dict(list(zip(names_l, marks_l)))\n",
    "gradebook()"
   ]
  },
  {
   "cell_type": "code",
   "execution_count": 262,
   "metadata": {
    "deletable": false,
    "nbgrader": {
     "checksum": "dc143c6b75f4f51f3011897c82653bd0",
     "grade": true,
     "grade_id": "p4-test",
     "locked": true,
     "points": 1,
     "schema_version": 1,
     "solution": false
    }
   },
   "outputs": [
    {
     "ename": "IndexError",
     "evalue": "list index out of range",
     "output_type": "error",
     "traceback": [
      "\u001b[1;31m---------------------------------------------------------------------------\u001b[0m",
      "\u001b[1;31mIndexError\u001b[0m                                Traceback (most recent call last)",
      "\u001b[1;32m<ipython-input-262-de7784a9ef56>\u001b[0m in \u001b[0;36m<module>\u001b[1;34m\u001b[0m\n\u001b[0;32m      7\u001b[0m     \u001b[1;32mwith\u001b[0m \u001b[0mTester\u001b[0m\u001b[1;33m(\u001b[0m\u001b[1;33m[\u001b[0m\u001b[0minp\u001b[0m\u001b[1;33m.\u001b[0m\u001b[0msplit\u001b[0m\u001b[1;33m(\u001b[0m\u001b[1;34m\",\"\u001b[0m\u001b[1;33m)\u001b[0m\u001b[1;33m]\u001b[0m\u001b[1;33m[\u001b[0m\u001b[1;36m0\u001b[0m\u001b[1;33m]\u001b[0m \u001b[1;33m+\u001b[0m \u001b[1;33m[\u001b[0m\u001b[0mint\u001b[0m\u001b[1;33m(\u001b[0m\u001b[0mi\u001b[0m\u001b[1;33m)\u001b[0m \u001b[1;32mfor\u001b[0m \u001b[0mi\u001b[0m \u001b[1;32min\u001b[0m \u001b[0minp\u001b[0m\u001b[1;33m.\u001b[0m\u001b[0msplit\u001b[0m\u001b[1;33m(\u001b[0m\u001b[1;34m\",\"\u001b[0m\u001b[1;33m)\u001b[0m\u001b[1;33m[\u001b[0m\u001b[1;36m1\u001b[0m\u001b[1;33m]\u001b[0m\u001b[1;33m.\u001b[0m\u001b[0msplit\u001b[0m\u001b[1;33m(\u001b[0m\u001b[1;33m)\u001b[0m\u001b[1;33m]\u001b[0m\u001b[1;33m)\u001b[0m \u001b[1;32mas\u001b[0m \u001b[0mt\u001b[0m\u001b[1;33m:\u001b[0m\u001b[1;33m\u001b[0m\u001b[1;33m\u001b[0m\u001b[0m\n\u001b[0;32m      8\u001b[0m         \u001b[0mgradebook\u001b[0m\u001b[1;33m(\u001b[0m\u001b[1;33m)\u001b[0m\u001b[1;33m\u001b[0m\u001b[1;33m\u001b[0m\u001b[0m\n\u001b[1;32m----> 9\u001b[1;33m         \u001b[1;32massert\u001b[0m \u001b[0mliteral_eval\u001b[0m\u001b[1;33m(\u001b[0m\u001b[0mt\u001b[0m\u001b[1;33m[\u001b[0m\u001b[1;36m0\u001b[0m\u001b[1;33m]\u001b[0m\u001b[1;33m.\u001b[0m\u001b[0mstrip\u001b[0m\u001b[1;33m(\u001b[0m\u001b[1;33m)\u001b[0m\u001b[1;33m)\u001b[0m \u001b[1;33m==\u001b[0m \u001b[0mout\u001b[0m\u001b[1;33m,\u001b[0m \u001b[1;34m\"Неверный ответ, были введены ключи \"\u001b[0m \u001b[1;33m+\u001b[0m \u001b[0minp\u001b[0m\u001b[1;33m.\u001b[0m\u001b[0msplit\u001b[0m\u001b[1;33m(\u001b[0m\u001b[1;34m\",\"\u001b[0m\u001b[1;33m)\u001b[0m\u001b[1;33m[\u001b[0m\u001b[1;36m0\u001b[0m\u001b[1;33m]\u001b[0m\u001b[1;33m\u001b[0m\u001b[1;33m\u001b[0m\u001b[0m\n\u001b[0m",
      "\u001b[1;31mIndexError\u001b[0m: list index out of range"
     ]
    }
   ],
   "source": [
    "from ast import literal_eval\n",
    "test_data = [(\"Анна Дмитрий,7 5\", {'Дмитрий': 5, 'Анна': 7}),\n",
    "            (\"Николай Иван,10 8\", {'Иван': 8, 'Николай': 10}),\n",
    "            (\"Мария Степан Виктор,6 5 7\", {'Мария': 6, 'Степан': 5, 'Виктор': 7})]\n",
    "\n",
    "for inp, out in test_data:\n",
    "    with Tester([inp.split(\",\")][0] + [int(i) for i in inp.split(\",\")[1].split()]) as t:\n",
    "        gradebook()\n",
    "        assert literal_eval(t[0].strip()) == out, \"Неверный ответ, были введены ключи \" + inp.split(\",\")[0]"
   ]
  },
  {
   "cell_type": "markdown",
   "metadata": {},
   "source": [
    "### Задача 5\n",
    "\n",
    "Дан словарь `results`:\n",
    "\n",
    "    results = {\"Best score\": 25, \"Champion\" : \"Alex\"}\n",
    "\n",
    "Напишите программу, которая запрашивает у пользователя его имя и число очков (в одну строчку через пробел), и\n",
    "\n",
    "* если число очков больше, чем текущее число очков в словаре, то она меняет значение \"Best score\" в `results` на то, которое указал пользователь, и значение \"Champion\" в `results` на имя пользователя; \n",
    "\n",
    "* если число очков не больше, чем текущее число очков в словаре, то программа ничего со словарем `results` не делает.\n",
    "\n",
    "После чего, вне зависимости от того, был ли словарь изменен или нет, на экран выводится `results`. Считайте, что число очков может быть только целым.\n",
    "\n",
    "**Пример:**\n",
    "\n",
    "*Входные данные:*\n",
    "\n",
    "    Enter your name and score: Alice 27\n",
    "\n",
    "*Выходные данные (порядок записей может отличаться):*\n",
    "\n",
    "    {\"Best score\": 27, \"Champion\" : \"Alice\"}\n",
    "    \n",
    "*Входные данные:*\n",
    "\n",
    "    Enter your name and score: Anton 23\n",
    " \n",
    "*Выходные данные (порядок записей может отличаться):*\n",
    "\n",
    "    {\"Best score\": 25, \"Champion\" : \"Alex\"}"
   ]
  },
  {
   "cell_type": "code",
   "execution_count": 271,
   "metadata": {
    "deletable": false,
    "nbgrader": {
     "checksum": "df5ff5d88abd8a7f3f2f80cb460ad3a1",
     "grade": false,
     "grade_id": "p5",
     "locked": false,
     "schema_version": 1,
     "solution": true
    },
    "scrolled": false
   },
   "outputs": [
    {
     "name": "stdout",
     "output_type": "stream",
     "text": [
      "Enter your name and score: Eliozie 26\n"
     ]
    },
    {
     "data": {
      "text/plain": [
       "{'Best score': 26, 'Champion': 'Eliozie'}"
      ]
     },
     "execution_count": 271,
     "metadata": {},
     "output_type": "execute_result"
    }
   ],
   "source": [
    "def champ():\n",
    "    results = {\"Best score\": 25, \"Champion\" : \"Alex\"}\n",
    "    enter = input('Enter your name and score: ').split()\n",
    "    enter_score = int(enter[1])\n",
    "    enter_champion = enter[0]\n",
    "    for v in results.values():\n",
    "        if v >= enter_score:\n",
    "            return results\n",
    "        else:\n",
    "            results[\"Best score\"] = enter_score\n",
    "            results[\"Champion\"] = enter_champion\n",
    "            return results\n",
    "champ()"
   ]
  },
  {
   "cell_type": "code",
   "execution_count": 272,
   "metadata": {
    "deletable": false,
    "nbgrader": {
     "checksum": "22a74c088af9a4485ec8a3825daac63a",
     "grade": true,
     "grade_id": "p5_test",
     "locked": true,
     "points": 1,
     "schema_version": 1,
     "solution": false
    }
   },
   "outputs": [
    {
     "ename": "IndexError",
     "evalue": "list index out of range",
     "output_type": "error",
     "traceback": [
      "\u001b[1;31m---------------------------------------------------------------------------\u001b[0m",
      "\u001b[1;31mIndexError\u001b[0m                                Traceback (most recent call last)",
      "\u001b[1;32m<ipython-input-272-356637b41926>\u001b[0m in \u001b[0;36m<module>\u001b[1;34m\u001b[0m\n\u001b[0;32m      9\u001b[0m     \u001b[1;32mwith\u001b[0m \u001b[0mTester\u001b[0m\u001b[1;33m(\u001b[0m\u001b[1;33m[\u001b[0m\u001b[0minp\u001b[0m\u001b[1;33m]\u001b[0m\u001b[1;33m)\u001b[0m \u001b[1;32mas\u001b[0m \u001b[0mt\u001b[0m\u001b[1;33m:\u001b[0m\u001b[1;33m\u001b[0m\u001b[1;33m\u001b[0m\u001b[0m\n\u001b[0;32m     10\u001b[0m         \u001b[0mchamp\u001b[0m\u001b[1;33m(\u001b[0m\u001b[1;33m)\u001b[0m\u001b[1;33m\u001b[0m\u001b[1;33m\u001b[0m\u001b[0m\n\u001b[1;32m---> 11\u001b[1;33m         \u001b[1;32massert\u001b[0m \u001b[0mliteral_eval\u001b[0m\u001b[1;33m(\u001b[0m\u001b[0mt\u001b[0m\u001b[1;33m[\u001b[0m\u001b[1;36m0\u001b[0m\u001b[1;33m]\u001b[0m\u001b[1;33m.\u001b[0m\u001b[0mstrip\u001b[0m\u001b[1;33m(\u001b[0m\u001b[1;33m)\u001b[0m\u001b[1;33m)\u001b[0m \u001b[1;33m==\u001b[0m \u001b[0mout\u001b[0m\u001b[1;33m,\u001b[0m \u001b[1;34m\"Неверный ответ, было введено имя %s и число очков %i\"\u001b[0m \u001b[1;33m%\u001b[0m\u001b[1;33m(\u001b[0m\u001b[0minp\u001b[0m\u001b[1;33m.\u001b[0m\u001b[0msplit\u001b[0m\u001b[1;33m(\u001b[0m\u001b[1;33m)\u001b[0m\u001b[1;33m[\u001b[0m\u001b[1;36m0\u001b[0m\u001b[1;33m]\u001b[0m\u001b[1;33m,\u001b[0m \u001b[0minp\u001b[0m\u001b[1;33m.\u001b[0m\u001b[0msplit\u001b[0m\u001b[1;33m(\u001b[0m\u001b[1;33m)\u001b[0m\u001b[1;33m[\u001b[0m\u001b[1;36m1\u001b[0m\u001b[1;33m]\u001b[0m\u001b[1;33m)\u001b[0m\u001b[1;33m\u001b[0m\u001b[1;33m\u001b[0m\u001b[0m\n\u001b[0m",
      "\u001b[1;31mIndexError\u001b[0m: list index out of range"
     ]
    }
   ],
   "source": [
    "from ast import literal_eval\n",
    "test_data = [(\"Alice 27\", {'Champion': 'Alice', 'Best score': 27}), \n",
    "             (\"Peter 21\", {'Champion': 'Alex', 'Best score': 25}), \n",
    "             (\"Mark 25\", {'Champion': 'Alex', 'Best score': 25}), \n",
    "             (\"Ann 18\", {'Champion': 'Alex', 'Best score': 25}),\n",
    "             (\"Sam 32\", {'Champion': 'Sam', 'Best score': 32})]\n",
    "\n",
    "for inp, out in test_data:\n",
    "    with Tester([inp]) as t:\n",
    "        champ()\n",
    "        assert literal_eval(t[0].strip()) == out, \"Неверный ответ, было введено имя %s и число очков %i\" %(inp.split()[0], inp.split()[1])"
   ]
  },
  {
   "cell_type": "markdown",
   "metadata": {},
   "source": [
    "### Задача 6 (2 балла)\n",
    "\n",
    "Дан словарь, содержащий информацию по станциям метро в Новосибирске (станции в списке указаны последовательно, с севера на юг в случае Ленинской ветки, и с запада на восток в случае Дзержинской ветки). \n",
    "\n",
    "    nmetro = {\"Ленинская\" : [\"Заельцовская\", \"Гагаринская\", \"Красный проспект\", \"Площадь Ленина\", \"Октябрьская\",\n",
    "                   \"Речной Вокзал\", \"Студенческая\", \"Площадь Маркса\"], \n",
    "              \"Дзержинская\" : [\"Площадь Гарина-Михайловского\",\"Сибирская\",\"Маршала Покрышкина\",\"Березовая Роща\",\n",
    "              \"Золотая Нива\"]}\n",
    "\n",
    "Напишите программу, которая запрашивает у пользователя сначала название текущей станции без пробела на конце, затем направление движения ('1' – с севера на юг или с запада на восток, '2' – с юга на север или с востока на запад) и выводит на экран название следующей станции. \n",
    "\n",
    "Считайте, что пользоватль знает, какие станции являются конечными, и не будет запрашивать станцию, следующую после конечной.\n",
    "\n",
    "**Пример:**\n",
    "\n",
    "*Входные данные:*\n",
    "\n",
    "    Введите название текущей станции: Гагаринская\n",
    "    Выберите направление движения (1 - с севера на юг или с запада на восток, 2 - с юга на север или с востока на запад): 2\n",
    "\n",
    "*Выходные данные:*\n",
    "\n",
    "    Следующая станция: Заельцовская\n",
    "\n",
    "\n",
    "*Входные данные:*\n",
    "\n",
    "    Введите название текущей станции: Сибирская\n",
    "    Выберите направление движения (1 - с севера на юг или с запада на восток, 2 - с юга на север или с востока на запад): 1\n",
    "\n",
    "*Выходные данные:*\n",
    "\n",
    "    Следующая станция: Маршала Покрышкина"
   ]
  },
  {
   "cell_type": "code",
   "execution_count": 273,
   "metadata": {
    "deletable": false,
    "nbgrader": {
     "checksum": "dde4550c364272a45cb9a4734a4103ee",
     "grade": false,
     "grade_id": "p6",
     "locked": false,
     "schema_version": 1,
     "solution": true
    }
   },
   "outputs": [
    {
     "name": "stdout",
     "output_type": "stream",
     "text": [
      "Введите название текущей станции: Гагаринская\n",
      "Выберите направление движения (1 - с севера на юг или с запада на восток, 2 - с юга на север или с востока на запад): 2\n",
      "Следующая станция: Заельцовская\n"
     ]
    }
   ],
   "source": [
    "def metro():\n",
    "    nmetro = {\"Ленинская\" : [\"Заельцовская\", \"Гагаринская\", \"Красный проспект\", \"Площадь Ленина\", \"Октябрьская\",\n",
    "                   \"Речной Вокзал\", \"Студенческая\", \"Площадь Маркса\"], \n",
    "              \"Дзержинская\" : [\"Площадь Гарина-Михайловского\", \"Сибирская\", \"Маршала Покрышкина\", \"Березовая Роща\",\n",
    "              \"Золотая Нива\"]}\n",
    "\n",
    "    metro_name = input('Введите название текущей станции: ')\n",
    "    direction = int(input('Выберите направление движения (1 - с севера на юг или с запада на восток, 2 - с юга на север или с востока на запад): '))\n",
    "    leninskaya = nmetro[\"Ленинская\"]\n",
    "    dzerzhinskaya = nmetro[\"Дзержинская\"]\n",
    "    \n",
    "    if direction == 1:\n",
    "        if metro_name in leninskaya:\n",
    "            print(f'Следующая станция: {leninskaya[leninskaya.index(metro_name) + 1]}')\n",
    "        elif metro_name in dzerzhinskaya:\n",
    "            print(f'Следующая станция: {dzerzhinskaya[dzerzhinskaya.index(metro_name) + 1]}')\n",
    "    elif direction == 2:\n",
    "        if metro_name in leninskaya:\n",
    "            print(f'Следующая станция: {leninskaya[leninskaya.index(metro_name) - 1]}')\n",
    "        elif metro_name in dzerzhinskaya:\n",
    "            print(f'Следующая станция: {dzerzhinskaya[dzerzhinskaya.index(metro_name) - 1]}')\n",
    "    \n",
    "metro()"
   ]
  },
  {
   "cell_type": "code",
   "execution_count": 274,
   "metadata": {
    "deletable": false,
    "nbgrader": {
     "checksum": "065840a68442ca3ca378cd8659e46c1f",
     "grade": true,
     "grade_id": "p6_test",
     "locked": true,
     "points": 2,
     "schema_version": 1,
     "solution": false
    }
   },
   "outputs": [],
   "source": [
    "test_data = [(\"Гагаринская,2\", \"Следующая станция: Заельцовская\"), \n",
    "             (\"Сибирская,1\", \"Следующая станция: Маршала Покрышкина\"),\n",
    "             (\"Студенческая,1\", \"Следующая станция: Площадь Маркса\"),\n",
    "             (\"Березовая Роща,2\", \"Следующая станция: Маршала Покрышкина\"),\n",
    "             (\"Золотая Нива,2\", \"Следующая станция: Березовая Роща\"),\n",
    "             (\"Площадь Гарина-Михайловского,1\", \"Следующая станция: Сибирская\")]\n",
    "\n",
    "for inp, out in test_data:\n",
    "    \n",
    "    with Tester(inp.split(\",\")) as t:\n",
    "        metro()\n",
    "        assert t[0] == out+'\\n', \"Неверный ответ. Было введено название %s, направление %s\"%(inp.split(\",\")[0], inp.split(\",\")[1])"
   ]
  },
  {
   "cell_type": "markdown",
   "metadata": {},
   "source": [
    "### Задача 7 (2 балла)\n",
    "\n",
    "Напишите программу, которая просит пользователя ввести текст без знаков препинания (просто слова через пробел) и выводит на экран словарь, где ключами являются буквы, а значениями ‒ их частота. Обратите внимание, одна и та же буква в разных регистрах (заглавная или строчная) должна считаться как одна и та же буква.\n",
    "\n",
    "Пользоваться можно только базовыми средствами Python: циклы и условные конструкции, методы для строк, списков, словарей.\n",
    "\n",
    "**Пример:**\n",
    "\n",
    "*Входные данные:*\n",
    "\n",
    "    Введите текст: Люблю грозу в начале мая\n",
    "\n",
    "*Выходные данные:*\n",
    "    \n",
    "    {'м': 1, 'я': 1, 'е': 1, 'а': 3, 'н': 1, 'з': 1, 'в': 1, 'ю': 2, 'ч': 1, 'у': 1, 'р': 1, 'б': 1, 'л': 3, 'г': 1, 'о': 1}\n",
    "\n",
    "*Входные данные:* \n",
    "\n",
    "    Введите текст: ABBA Brilliant concert\n",
    "\n",
    "*Выходные данные:*\n",
    "\n",
    "    {'l': 2, 't': 2, 'o': 1, 'r': 2, 'e': 1, 'b': 3, 'c': 2, 'i': 2, 'n': 2, 'a': 3}"
   ]
  },
  {
   "cell_type": "code",
   "execution_count": 275,
   "metadata": {
    "deletable": false,
    "nbgrader": {
     "checksum": "ddb8784ae5e6e5e02c12da94e37d6c6e",
     "grade": false,
     "grade_id": "p7",
     "locked": false,
     "schema_version": 1,
     "solution": true
    }
   },
   "outputs": [
    {
     "name": "stdout",
     "output_type": "stream",
     "text": [
      "Введите текст: Мир Труд Замай\n"
     ]
    },
    {
     "data": {
      "text/plain": [
       "{'м': 2, 'и': 1, 'р': 2, 'т': 1, 'у': 1, 'д': 1, 'з': 1, 'а': 2, 'й': 1}"
      ]
     },
     "execution_count": 275,
     "metadata": {},
     "output_type": "execute_result"
    }
   ],
   "source": [
    "def letter_count():\n",
    "    text = input(\"Введите текст: \").lower().replace(\" \", \"\")\n",
    "    freq = {}\n",
    "    for l in text:\n",
    "        key = freq.keys()\n",
    "        if l in key:\n",
    "            freq[l] += 1\n",
    "        else:\n",
    "            freq[l] = 1\n",
    "    return freq\n",
    "letter_count()"
   ]
  },
  {
   "cell_type": "code",
   "execution_count": 276,
   "metadata": {
    "deletable": false,
    "nbgrader": {
     "checksum": "62caedf009a8c71397978678f8204f54",
     "grade": true,
     "grade_id": "p7_test",
     "locked": true,
     "points": 3,
     "schema_version": 1,
     "solution": false
    }
   },
   "outputs": [
    {
     "ename": "IndexError",
     "evalue": "list index out of range",
     "output_type": "error",
     "traceback": [
      "\u001b[1;31m---------------------------------------------------------------------------\u001b[0m",
      "\u001b[1;31mIndexError\u001b[0m                                Traceback (most recent call last)",
      "\u001b[1;32m<ipython-input-276-3689906f1c1e>\u001b[0m in \u001b[0;36m<module>\u001b[1;34m\u001b[0m\n\u001b[0;32m      8\u001b[0m     \u001b[1;32mwith\u001b[0m \u001b[0mTester\u001b[0m\u001b[1;33m(\u001b[0m\u001b[1;33m[\u001b[0m\u001b[0minp\u001b[0m\u001b[1;33m]\u001b[0m\u001b[1;33m)\u001b[0m \u001b[1;32mas\u001b[0m \u001b[0mt\u001b[0m\u001b[1;33m:\u001b[0m\u001b[1;33m\u001b[0m\u001b[1;33m\u001b[0m\u001b[0m\n\u001b[0;32m      9\u001b[0m         \u001b[0mletter_count\u001b[0m\u001b[1;33m(\u001b[0m\u001b[1;33m)\u001b[0m\u001b[1;33m\u001b[0m\u001b[1;33m\u001b[0m\u001b[0m\n\u001b[1;32m---> 10\u001b[1;33m         \u001b[1;32massert\u001b[0m \u001b[0mliteral_eval\u001b[0m\u001b[1;33m(\u001b[0m\u001b[0mt\u001b[0m\u001b[1;33m[\u001b[0m\u001b[1;36m0\u001b[0m\u001b[1;33m]\u001b[0m\u001b[1;33m.\u001b[0m\u001b[0mstrip\u001b[0m\u001b[1;33m(\u001b[0m\u001b[1;33m)\u001b[0m\u001b[1;33m)\u001b[0m \u001b[1;33m==\u001b[0m \u001b[0mout\u001b[0m\u001b[1;33m,\u001b[0m \u001b[1;34m\"Неверно, был введен текст %s\"\u001b[0m \u001b[1;33m%\u001b[0m \u001b[0minp\u001b[0m\u001b[1;33m\u001b[0m\u001b[1;33m\u001b[0m\u001b[0m\n\u001b[0m",
      "\u001b[1;31mIndexError\u001b[0m: list index out of range"
     ]
    }
   ],
   "source": [
    "from ast import literal_eval\n",
    "test_data = [(\"А роза упала на лапу Азора\", {'п': 2, 'а': 8, 'н': 1, 'р': 2, 'л': 2, 'з': 2, 'у': 2, 'о': 2}), \n",
    "             (\"Мир Труд Май\", {'й': 1, 'м': 2, 'д': 1, 'и': 1, 'а': 1, 'т': 1, 'у': 1, 'р': 2}), \n",
    "             (\"ABABABCDaadd\", {'b': 3, 'c': 1, 'd': 3, 'a': 5}),\n",
    "             (\"Ляляля турурум лмс\", {'м': 2, 'я': 3, 'с': 1, 'т': 1, 'л': 4, 'у': 3, 'р': 2})]\n",
    "\n",
    "for inp, out in test_data:\n",
    "    with Tester([inp]) as t:\n",
    "        letter_count()\n",
    "        assert literal_eval(t[0].strip()) == out, \"Неверно, был введен текст %s\" % inp"
   ]
  }
 ],
 "metadata": {
  "kernelspec": {
   "display_name": "Python 3",
   "language": "python",
   "name": "python3"
  },
  "language_info": {
   "codemirror_mode": {
    "name": "ipython",
    "version": 3
   },
   "file_extension": ".py",
   "mimetype": "text/x-python",
   "name": "python",
   "nbconvert_exporter": "python",
   "pygments_lexer": "ipython3",
   "version": "3.8.3"
  }
 },
 "nbformat": 4,
 "nbformat_minor": 2
}
